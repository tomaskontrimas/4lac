{
 "cells": [
  {
   "cell_type": "code",
   "execution_count": 1,
   "id": "77f91ccf-5bce-4916-a41b-c04cf1383609",
   "metadata": {},
   "outputs": [],
   "source": [
    "import pandas\n",
    "import numpy as np\n",
    "\n",
    "from astropy.io import fits\n",
    "from astropy.table import Table"
   ]
  },
  {
   "cell_type": "code",
   "execution_count": 2,
   "id": "049bae63-00a5-4a91-a363-b4752160487b",
   "metadata": {},
   "outputs": [],
   "source": [
    "# Load all 4lac catalogs\n",
    "catalog_paths = {\n",
    "    '4LAC-h': '4LAC/table_4LAC.fits',\n",
    "    '4LAC-l': '4LAC/table_lowlat_sample.fits',\n",
    "    '4LAC-DR2-h': '4LAC/table-4LAC-DR2-h.fits',\n",
    "    '4LAC-DR2-l': '4LAC/table-4LAC-DR2-l.fits'    \n",
    "}\n",
    "\n",
    "catalog = {}\n",
    "for name, path in catalog_paths.items():\n",
    "    catalog[name] = Table.read(path, format='fits').to_pandas()"
   ]
  },
  {
   "cell_type": "code",
   "execution_count": null,
   "id": "1338e87e-f327-45ae-8f7d-e7df6d28d4d8",
   "metadata": {},
   "outputs": [],
   "source": []
  },
  {
   "cell_type": "code",
   "execution_count": 3,
   "id": "ddafe099-0c97-42d0-9b10-5a25a93479bf",
   "metadata": {},
   "outputs": [],
   "source": [
    "catalog_matthias = np.load('4LAC/4LAC_dec_neg3_to_75.npy')"
   ]
  },
  {
   "cell_type": "code",
   "execution_count": 4,
   "id": "f90c6fbc-a25c-4fbc-a277-fc7c2a362b7a",
   "metadata": {},
   "outputs": [
    {
     "data": {
      "text/plain": [
       "(1377,)"
      ]
     },
     "execution_count": 4,
     "metadata": {},
     "output_type": "execute_result"
    }
   ],
   "source": [
    "catalog_matthias.shape"
   ]
  },
  {
   "cell_type": "code",
   "execution_count": 5,
   "id": "4b943fd9-dc45-4ef6-a168-ae5a14f7fd26",
   "metadata": {},
   "outputs": [
    {
     "data": {
      "text/plain": [
       "array([b'BCU', b'BLL', b'FSRQ', b'bcu', b'bll', b'fsrq'], dtype='|S20')"
      ]
     },
     "execution_count": 5,
     "metadata": {},
     "output_type": "execute_result"
    }
   ],
   "source": [
    "np.unique(catalog_matthias['class'])"
   ]
  },
  {
   "cell_type": "code",
   "execution_count": 6,
   "id": "4f0cc469-1225-491e-a1ee-098b721b0223",
   "metadata": {},
   "outputs": [
    {
     "name": "stdout",
     "output_type": "stream",
     "text": [
      "(1377, 38)\n"
     ]
    }
   ],
   "source": [
    "catalog_matthias_reproduced = catalog['4LAC-h'].loc[\n",
    "    (catalog['4LAC-h']['Flags'] == 0)\n",
    "    & (catalog['4LAC-h']['DEJ2000'] >= -3)\n",
    "    & (catalog['4LAC-h']['DEJ2000'] <= 75)\n",
    "    & catalog['4LAC-h']['CLASS'].isin([b'BCU', b'BLL', b'FSRQ', b'bcu', b'bll', b'fsrq'])\n",
    "]\n",
    "print(catalog_matthias_reproduced.shape)"
   ]
  },
  {
   "cell_type": "code",
   "execution_count": 7,
   "id": "4c259a22-3d99-4cea-9183-d2bb32d5ab7b",
   "metadata": {},
   "outputs": [
    {
     "data": {
      "text/plain": [
       "True"
      ]
     },
     "execution_count": 7,
     "metadata": {},
     "output_type": "execute_result"
    }
   ],
   "source": [
    "np.all(catalog_matthias['name'] == catalog_matthias_reproduced['Source_Name'])"
   ]
  },
  {
   "cell_type": "code",
   "execution_count": 8,
   "id": "55f5e89d-1fec-49ac-ada9-ddc69f3c5612",
   "metadata": {},
   "outputs": [],
   "source": [
    "catalog_patrick = np.load('4LAC/blazars_for_skyllh.npy')"
   ]
  },
  {
   "cell_type": "code",
   "execution_count": 9,
   "id": "47d8bf4d-5fc8-4a0c-b01f-e99b0bfba759",
   "metadata": {},
   "outputs": [
    {
     "data": {
      "text/plain": [
       "(1916, 2)"
      ]
     },
     "execution_count": 9,
     "metadata": {},
     "output_type": "execute_result"
    }
   ],
   "source": [
    "catalog_patrick.shape"
   ]
  }
 ],
 "metadata": {
  "kernelspec": {
   "display_name": "Python 3 (ipykernel)",
   "language": "python",
   "name": "python3"
  },
  "language_info": {
   "codemirror_mode": {
    "name": "ipython",
    "version": 3
   },
   "file_extension": ".py",
   "mimetype": "text/x-python",
   "name": "python",
   "nbconvert_exporter": "python",
   "pygments_lexer": "ipython3",
   "version": "3.9.10"
  }
 },
 "nbformat": 4,
 "nbformat_minor": 5
}
